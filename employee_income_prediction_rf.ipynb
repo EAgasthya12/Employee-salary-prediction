{
 "cells": [
  {
   "cell_type": "markdown",
   "metadata": {},
   "source": [
    "# Employee Income Prediction using Random Forest"
   ]
  },
  {
   "cell_type": "code",
   "execution_count": null,
   "metadata": {},
   "outputs": [],
   "source": [
    "import pandas as pd\n",
    "from sklearn.model_selection import train_test_split\n",
    "from sklearn.ensemble import RandomForestClassifier\n",
    "from sklearn.preprocessing import OneHotEncoder\n",
    "from sklearn.compose import ColumnTransformer\n",
    "from sklearn.pipeline import Pipeline\n",
    "import joblib\n",
    "\n",
    "# Load dataset\n",
    "df = pd.read_csv('adult.csv')\n",
    "\n",
    "# Drop missing values (if any)\n",
    "df.dropna(inplace=True)\n",
    "\n",
    "# Create new feature\n",
    "df['experience'] = df['age'] - df['education-num']\n",
    "df['experience'] = df['experience'].clip(lower=0)\n",
    "\n",
    "# Features and target\n",
    "X = df[['age', 'education', 'occupation', 'hours-per-week', 'experience']]\n",
    "y = df['income']  # This should be the column with '>50K' or '<=50K'\n",
    "\n",
    "# Define categorical and numeric columns\n",
    "cat_cols = ['education', 'occupation']\n",
    "num_cols = ['age', 'hours-per-week', 'experience']\n",
    "\n",
    "# Preprocessing\n",
    "preprocessor = ColumnTransformer(transformers=[\n",
    "    ('cat', OneHotEncoder(handle_unknown='ignore'), cat_cols)\n",
    "], remainder='passthrough')\n",
    "\n",
    "# Model pipeline\n",
    "pipeline = Pipeline(steps=[\n",
    "    ('preprocessor', preprocessor),\n",
    "    ('classifier', RandomForestClassifier(n_estimators=100, random_state=42))\n",
    "])\n",
    "\n",
    "# Train/test split\n",
    "X_train, X_test, y_train, y_test = train_test_split(X, y, test_size=0.2, random_state=42)\n",
    "\n",
    "# Fit the model\n",
    "pipeline.fit(X_train, y_train)\n",
    "\n",
    "# Save the model\n",
    "joblib.dump(pipeline, 'best_model.pkl')\n",
    "print(\"✅ Model saved to best_model.pkl\")\n"
   ]
  }
 ],
 "metadata": {
  "kernelspec": {
   "display_name": "Python 3",
   "language": "python",
   "name": "python3"
  },
  "language_info": {
   "name": "python",
   "version": "3.9"
  }
 },
 "nbformat": 4,
 "nbformat_minor": 5
}
